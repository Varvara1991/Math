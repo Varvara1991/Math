{
 "cells": [
  {
   "cell_type": "code",
   "execution_count": 8,
   "metadata": {},
   "outputs": [
    {
     "name": "stdout",
     "output_type": "stream",
     "text": [
      "\n",
      "3\n",
      "\n",
      "16\n"
     ]
    }
   ],
   "source": [
    "%matplotlib inline\n",
    "import numpy as np\n",
    "import matplotlib.pyplot as plt\n",
    "import matplotlib.mlab as mlab\n",
    "\n",
    "import math\n",
    "\n",
    "#1\n",
    "for i in range (0,2):\n",
    "    a = input()\n",
    "    x = int(np.random.uniform(0,37))\n",
    "    print(x)"
   ]
  },
  {
   "cell_type": "code",
   "execution_count": 5,
   "metadata": {},
   "outputs": [
    {
     "ename": "NameError",
     "evalue": "name 'c' is not defined",
     "output_type": "error",
     "traceback": [
      "\u001b[1;31m---------------------------------------------------------------------------\u001b[0m",
      "\u001b[1;31mNameError\u001b[0m                                 Traceback (most recent call last)",
      "\u001b[1;32m<ipython-input-5-96144db91d44>\u001b[0m in \u001b[0;36m<module>\u001b[1;34m()\u001b[0m\n\u001b[0;32m      1\u001b[0m \u001b[1;31m# 2.1 Выпадут 0 или 1\u001b[0m\u001b[1;33m\u001b[0m\u001b[1;33m\u001b[0m\u001b[0m\n\u001b[0;32m      2\u001b[0m \u001b[0mc2\u001b[0m \u001b[1;33m=\u001b[0m \u001b[1;36m2\u001b[0m\u001b[1;33m\u001b[0m\u001b[0m\n\u001b[1;32m----> 3\u001b[1;33m \u001b[0mp2\u001b[0m \u001b[1;33m=\u001b[0m \u001b[0mc\u001b[0m \u001b[1;33m*\u001b[0m \u001b[1;36m1\u001b[0m\u001b[1;33m/\u001b[0m\u001b[1;33m(\u001b[0m\u001b[1;36m2\u001b[0m\u001b[1;33m^\u001b[0m\u001b[1;36m37\u001b[0m\u001b[1;33m)\u001b[0m\u001b[1;33m\u001b[0m\u001b[0m\n\u001b[0m\u001b[0;32m      4\u001b[0m \u001b[0mprint\u001b[0m\u001b[1;33m(\u001b[0m\u001b[0mp2\u001b[0m\u001b[1;33m)\u001b[0m\u001b[1;33m\u001b[0m\u001b[0m\n\u001b[0;32m      5\u001b[0m \u001b[1;33m\u001b[0m\u001b[0m\n",
      "\u001b[1;31mNameError\u001b[0m: name 'c' is not defined"
     ]
    }
   ],
   "source": [
    "# 2.1 Выпадут 0 или 1\n",
    "c2 = 2 \n",
    "p2 = c * 1/(2^37)\n",
    "print(p2)\n",
    "\n",
    "# Выпадет 0\n",
    "c0 = 1\n",
    "p0 = c0*1/(2^37)\n",
    "print(p0)\n",
    "\n",
    "#Выпадет 1\n",
    "c1 = 1\n",
    "p1 = c1*1/(2^37)\n",
    "print(p1)\n",
    "\n",
    "# Сумма\n",
    "P2 = p0+p1\n",
    "print(P2)\n"
   ]
  },
  {
   "cell_type": "code",
   "execution_count": 6,
   "metadata": {},
   "outputs": [
    {
     "name": "stdout",
     "output_type": "stream",
     "text": [
      "[4.44022835 3.93017966 5.06079394 3.92630134 5.54809785 4.98823942\n",
      " 6.89542578 4.33665602 4.0822635  5.25400015]\n"
     ]
    },
    {
     "data": {
      "image/png": "[encoded data removed]",
      "text/plain": [
       "<Figure size 432x288 with 1 Axes>"
      ]
     },
     "metadata": {
      "needs_background": "light"
     },
     "output_type": "display_data"
    }
   ],
   "source": [
    "# 2.2\n",
    "#n = []\n",
    "#for i in range(0,10):\n",
    "#    n.append(np.random.rand(10))\n",
    "#x = sum(n)\n",
    "x0 = np.random.rand(10)\n",
    "x1 = np.random.rand(10)\n",
    "x2 = np.random.rand(10)\n",
    "x3 = np.random.rand(10)\n",
    "x4 = np.random.rand(10)\n",
    "x5 = np.random.rand(10)\n",
    "x6 = np.random.rand(10)\n",
    "x7 = np.random.rand(10)\n",
    "x8 = np.random.rand(10)\n",
    "x9 = np.random.rand(10)\n",
    "\n",
    "x = x0+x1+x2+x3+x4+x5+x6+x7+x8+x9\n",
    "print(x)\n",
    "num_bins = 5\n",
    "n, bins, patches = plt.hist(x, num_bins)\n",
    "plt. xlabel('x')\n",
    "plt.ylabel('Probability')\n",
    "plt.title('Gistogram')\n",
    "plt.show()"
   ]
  },
  {
   "cell_type": "code",
   "execution_count": 96,
   "metadata": {},
   "outputs": [
    {
     "name": "stdout",
     "output_type": "stream",
     "text": [
      "0.3706\n",
      "6.0\n",
      "0.375\n"
     ]
    }
   ],
   "source": [
    "# 3.1 \n",
    "import itertools\n",
    "k,n = 0,10000\n",
    "\n",
    "a = np.random.randint(0,2,n)\n",
    "b = np.random.randint(0,2,n)\n",
    "c = np.random.randint(0,2,n)\n",
    "d = np.random.randint(0,2,n)\n",
    "\n",
    "x = a + b + c + d\n",
    "\n",
    "for i in range (0,n):\n",
    "    if x[i]==2:\n",
    "        k = k+1\n",
    "     \n",
    "#print(a,b,c,d)\n",
    "#print(x)\n",
    "#Монте Карло\n",
    "#print(k, n, k/n)\n",
    "print(k/n)\n",
    "#Бернулли\n",
    "k = 2\n",
    "n = 4\n",
    "C = (math.factorial(n))/((math.factorial(k))*(math.factorial(n-k)))\n",
    "P = C*(1/(2**n))\n",
    "print(C)        \n",
    "print(P)"
   ]
  },
  {
   "cell_type": "code",
   "execution_count": 113,
   "metadata": {},
   "outputs": [
    {
     "name": "stdout",
     "output_type": "stream",
     "text": [
      "167960.0\n",
      "0.16017913818359375\n"
     ]
    }
   ],
   "source": [
    "# 3.2\n",
    "k = 11\n",
    "n = 20\n",
    "C = (math.factorial(n))/((math.factorial(k))*(math.factorial(n-k)))\n",
    "P = C*(1/(2**n))\n",
    "print(C)      \n",
    "print(P)"
   ]
  },
  {
   "cell_type": "code",
   "execution_count": 124,
   "metadata": {},
   "outputs": [
    {
     "name": "stdout",
     "output_type": "stream",
     "text": [
      "00\n",
      "01\n",
      "02\n",
      "10\n",
      "11\n",
      "12\n",
      "20\n",
      "21\n",
      "22\n",
      "01\n",
      "02\n",
      "10\n",
      "12\n",
      "20\n",
      "21\n",
      "01\n",
      "02\n",
      "12\n"
     ]
    }
   ],
   "source": [
    "# 4\n",
    "for p in itertools.product(\"012\", repeat=2):\n",
    "    pass\n",
    "    print(\"\".join(p))\n",
    "for p in itertools.permutations(\"012\", 2):\n",
    "    pass\n",
    "    print(\"\".join(str(x) for x in p))\n",
    "for p in itertools.combinations(\"012\", 2):\n",
    "    print(\"\".join(p))"
   ]
  },
  {
   "cell_type": "code",
   "execution_count": 148,
   "metadata": {},
   "outputs": [
    {
     "name": "stdout",
     "output_type": "stream",
     "text": [
      "[[1.         0.89431816]\n",
      " [0.89431816 1.        ]]\n",
      "0.6704598267976314 0.17066159068392908\n"
     ]
    },
    {
     "name": "stderr",
     "output_type": "stream",
     "text": [
      "C:\\Users\\varva\\Anaconda3\\lib\\site-packages\\ipykernel_launcher.py:13: FutureWarning: `rcond` parameter will change to the default of machine precision times ``max(M, N)`` where M and N are the input matrix dimensions.\n",
      "To use the future default and silence this warning we advise to pass `rcond=None`, to keep using the old, explicitly pass `rcond=-1`.\n",
      "  del sys.path[0]\n"
     ]
    },
    {
     "data": {
      "image/png": "[encoded data removed]",
      "text/plain": [
       "<Figure size 432x288 with 1 Axes>"
      ]
     },
     "metadata": {
      "needs_background": "light"
     },
     "output_type": "display_data"
    },
    {
     "name": "stdout",
     "output_type": "stream",
     "text": [
      "0.48641589905603505\n",
      "0.49678391011665235\n",
      "0.8943181582076748\n"
     ]
    }
   ],
   "source": [
    "# 5\n",
    "n = 100\n",
    "r = 0.7\n",
    "x = np.random.rand(n)\n",
    "y = r*x + (1-r)*np.random.rand(n)\n",
    "plt.plot(x,y,'o')\n",
    "plt.xlabel('x')\n",
    "plt.ylabel('y')\n",
    "#plt.ylim(-1,3)\n",
    "plt.grid(True)\n",
    "\n",
    "a = np.vstack([x, np.ones(len(x))]).T\n",
    "a1,b1 = np.linalg.lstsq(a,y)[0]\n",
    "\n",
    "c = np.corrcoef(x,y)\n",
    "print(c)\n",
    "\n",
    "print(a1,b1)\n",
    "plt.plot([0,1], [b1, a1+b1])\n",
    "plt.show()\n",
    "\n",
    "xm = np.average(x)\n",
    "print(xm)\n",
    "ym = np.average(y)\n",
    "print(ym)\n",
    "for i in range(n):\n",
    "    xn = (x-xm)\n",
    "    yn = (y-ym)\n",
    "R1 = np.sum(xn*yn)\n",
    "R2 = (np.sum(xn**2) * np.sum(yn**2))**(1/2)\n",
    "R = R1/R2\n",
    "print(R)"
   ]
  }
 ],
 "metadata": {
  "kernelspec": {
   "display_name": "Python 3",
   "language": "python",
   "name": "python3"
  },
  "language_info": {
   "codemirror_mode": {
    "name": "ipython",
    "version": 3
   },
   "file_extension": ".py",
   "mimetype": "text/x-python",
   "name": "python",
   "nbconvert_exporter": "python",
   "pygments_lexer": "ipython3",
   "version": "3.7.0"
  }
 },
 "nbformat": 4,
 "nbformat_minor": 2
}
