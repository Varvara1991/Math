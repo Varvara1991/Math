{
 "cells": [
  {
   "cell_type": "code",
   "execution_count": 8,
   "metadata": {},
   "outputs": [
    {
     "name": "stdout",
     "output_type": "stream",
     "text": [
      "\n",
      "3\n",
      "\n",
      "16\n"
     ]
    }
   ],
   "source": [
    "%matplotlib inline\n",
    "import numpy as np\n",
    "import matplotlib.pyplot as plt\n",
    "import matplotlib.mlab as mlab\n",
    "\n",
    "import math\n",
    "\n",
    "#1\n",
    "for i in range (0,2):\n",
    "    a = input()\n",
    "    x = int(np.random.uniform(0,37))\n",
    "    print(x)"
   ]
  },
  {
   "cell_type": "code",
   "execution_count": 150,
   "metadata": {},
   "outputs": [
    {
     "name": "stdout",
     "output_type": "stream",
     "text": [
      "0.05128205128205128\n",
      "0.02564102564102564\n",
      "0.02564102564102564\n",
      "0.05128205128205128\n"
     ]
    }
   ],
   "source": [
    "# 2.1 Выпадут 0 или 1\n",
    "c2 = 2 \n",
    "p2 = c2 * 1/(2^37)\n",
    "print(p2)\n",
    "\n",
    "# Выпадет 0\n",
    "c0 = 1\n",
    "p0 = c0*1/(2^37)\n",
    "print(p0)\n",
    "\n",
    "#Выпадет 1\n",
    "c1 = 1\n",
    "p1 = c1*1/(2^37)\n",
    "print(p1)\n",
    "\n",
    "# Сумма\n",
    "P2 = p0+p1\n",
    "print(P2)\n"
   ]
  },
  {
   "cell_type": "code",
   "execution_count": 151,
   "metadata": {},
   "outputs": [
    {
     "name": "stdout",
     "output_type": "stream",
     "text": [
      "[6.08055522 4.67318219 5.40113727 4.26309867 3.7067314  4.59454719\n",
      " 6.6767942  5.17966433 4.73776287 6.08236121]\n"
     ]
    },
    {
     "data": {
      "image/png": "[encoded data removed]",
      "text/plain": [
       "<Figure size 432x288 with 1 Axes>"
      ]
     },
     "metadata": {
      "needs_background": "light"
     },
     "output_type": "display_data"
    }
   ],
   "source": [
    "# 2.2\n",
    "#n = []\n",
    "#for i in range(0,10):\n",
    "#    n.append(np.random.rand(10))\n",
    "#x = sum(n)\n",
    "x0 = np.random.rand(10)\n",
    "x1 = np.random.rand(10)\n",
    "x2 = np.random.rand(10)\n",
    "x3 = np.random.rand(10)\n",
    "x4 = np.random.rand(10)\n",
    "x5 = np.random.rand(10)\n",
    "x6 = np.random.rand(10)\n",
    "x7 = np.random.rand(10)\n",
    "x8 = np.random.rand(10)\n",
    "x9 = np.random.rand(10)\n",
    "\n",
    "x = x0+x1+x2+x3+x4+x5+x6+x7+x8+x9\n",
    "print(x)\n",
    "num_bins = 5\n",
    "n, bins, patches = plt.hist(x, num_bins)\n",
    "plt. xlabel('x')\n",
    "plt.ylabel('Probability')\n",
    "plt.title('Gistogram')\n",
    "plt.show()"
   ]
  },
  {
   "cell_type": "code",
   "execution_count": 153,
   "metadata": {},
   "outputs": [
    {
     "name": "stdout",
     "output_type": "stream",
     "text": [
      "0.3766\n",
      "0.375\n"
     ]
    }
   ],
   "source": [
    "# 3.1 \n",
    "import itertools\n",
    "k,n = 0,10000\n",
    "\n",
    "a = np.random.randint(0,2,n)\n",
    "b = np.random.randint(0,2,n)\n",
    "c = np.random.randint(0,2,n)\n",
    "d = np.random.randint(0,2,n)\n",
    "\n",
    "x = a + b + c + d\n",
    "\n",
    "for i in range (0,n):\n",
    "    if x[i]==2:\n",
    "        k = k+1\n",
    "     \n",
    "#print(a,b,c,d)\n",
    "#print(x)\n",
    "#Монте Карло\n",
    "#print(k, n, k/n)\n",
    "print(k/n)\n",
    "#Бернулли\n",
    "k = 2\n",
    "n = 4\n",
    "C = (math.factorial(n))/((math.factorial(k))*(math.factorial(n-k)))\n",
    "P = C*(1/(2**n))\n",
    "#print(C)        \n",
    "print(P)"
   ]
  },
  {
   "cell_type": "code",
   "execution_count": 154,
   "metadata": {},
   "outputs": [
    {
     "name": "stdout",
     "output_type": "stream",
     "text": [
      "167960.0\n",
      "0.16017913818359375\n"
     ]
    }
   ],
   "source": [
    "# 3.2\n",
    "k = 11\n",
    "n = 20\n",
    "C = (math.factorial(n))/((math.factorial(k))*(math.factorial(n-k)))\n",
    "P = C*(1/(2**n))\n",
    "print(C)      \n",
    "print(P)"
   ]
  },
  {
   "cell_type": "code",
   "execution_count": 160,
   "metadata": {},
   "outputs": [
    {
     "name": "stdout",
     "output_type": "stream",
     "text": [
      "00\n",
      "01\n",
      "02\n",
      "10\n",
      "11\n",
      "12\n",
      "20\n",
      "21\n",
      "22\n",
      "\n",
      "\n",
      "01\n",
      "02\n",
      "10\n",
      "12\n",
      "20\n",
      "21\n",
      "\n",
      "\n",
      "01\n",
      "02\n",
      "12\n"
     ]
    }
   ],
   "source": [
    "# 4\n",
    "for p in itertools.product(\"012\", repeat=2):\n",
    "    print(\"\".join(p))\n",
    "print('\\n')\n",
    "for p in itertools.permutations(\"012\", 2):\n",
    "    print(\"\".join(str(x) for x in p))\n",
    "print('\\n')\n",
    "for p in itertools.combinations(\"012\", 2):\n",
    "    print(\"\".join(p))"
   ]
  },
  {
   "cell_type": "code",
   "execution_count": 161,
   "metadata": {},
   "outputs": [
    {
     "name": "stdout",
     "output_type": "stream",
     "text": [
      "[[1.         0.90202039]\n",
      " [0.90202039 1.        ]]\n",
      "0.6698647208169107 0.15391224205396578\n"
     ]
    },
    {
     "name": "stderr",
     "output_type": "stream",
     "text": [
      "C:\\Users\\varva\\Anaconda3\\lib\\site-packages\\ipykernel_launcher.py:13: FutureWarning: `rcond` parameter will change to the default of machine precision times ``max(M, N)`` where M and N are the input matrix dimensions.\n",
      "To use the future default and silence this warning we advise to pass `rcond=None`, to keep using the old, explicitly pass `rcond=-1`.\n",
      "  del sys.path[0]\n"
     ]
    },
    {
     "data": {
      "image/png": "[encoded data removed]",
      "text/plain": [
       "<Figure size 432x288 with 1 Axes>"
      ]
     },
     "metadata": {
      "needs_background": "light"
     },
     "output_type": "display_data"
    },
    {
     "name": "stdout",
     "output_type": "stream",
     "text": [
      "0.48610735070003414\n",
      "0.47953840681769244\n",
      "0.9020203934421064\n"
     ]
    }
   ],
   "source": [
    "# 5\n",
    "n = 100\n",
    "r = 0.7\n",
    "x = np.random.rand(n)\n",
    "y = r*x + (1-r)*np.random.rand(n)\n",
    "plt.plot(x,y,'o')\n",
    "plt.xlabel('x')\n",
    "plt.ylabel('y')\n",
    "#plt.ylim(-1,3)\n",
    "plt.grid(True)\n",
    "\n",
    "a = np.vstack([x, np.ones(len(x))]).T\n",
    "a1,b1 = np.linalg.lstsq(a,y)[0]\n",
    "\n",
    "c = np.corrcoef(x,y)\n",
    "print(c)\n",
    "\n",
    "print(a1,b1)\n",
    "plt.plot([0,1], [b1, a1+b1])\n",
    "plt.show()\n",
    "\n",
    "xm = np.average(x)\n",
    "print(xm)\n",
    "ym = np.average(y)\n",
    "print(ym)\n",
    "for i in range(n):\n",
    "    xn = (x-xm)\n",
    "    yn = (y-ym)\n",
    "R1 = np.sum(xn*yn)\n",
    "R2 = (np.sum(xn**2) * np.sum(yn**2))**(1/2)\n",
    "R = R1/R2\n",
    "print(R)"
   ]
  }
 ],
 "metadata": {
  "kernelspec": {
   "display_name": "Python 3",
   "language": "python",
   "name": "python3"
  },
  "language_info": {
   "codemirror_mode": {
    "name": "ipython",
    "version": 3
   },
   "file_extension": ".py",
   "mimetype": "text/x-python",
   "name": "python",
   "nbconvert_exporter": "python",
   "pygments_lexer": "ipython3",
   "version": "3.7.0"
  }
 },
 "nbformat": 4,
 "nbformat_minor": 2
}
